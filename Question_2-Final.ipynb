{
 "cells": [
  {
   "cell_type": "code",
   "execution_count": 1,
   "metadata": {},
   "outputs": [],
   "source": [
    "import pandas as pd\n",
    "import numpy as np\n",
    "from numpy.linalg import inv"
   ]
  },
  {
   "cell_type": "code",
   "execution_count": 2,
   "metadata": {},
   "outputs": [],
   "source": [
    "data = pd.read_csv(\"Adops & Data Scientist Sample Data - Q2 Regression.csv\", header=None)"
   ]
  },
  {
   "cell_type": "code",
   "execution_count": 3,
   "metadata": {},
   "outputs": [],
   "source": [
    "data.columns = [\"A\", \"B\", \"C\"]"
   ]
  },
  {
   "cell_type": "code",
   "execution_count": 4,
   "metadata": {},
   "outputs": [
    {
     "data": {
      "text/html": [
       "<div>\n",
       "<style scoped>\n",
       "    .dataframe tbody tr th:only-of-type {\n",
       "        vertical-align: middle;\n",
       "    }\n",
       "\n",
       "    .dataframe tbody tr th {\n",
       "        vertical-align: top;\n",
       "    }\n",
       "\n",
       "    .dataframe thead th {\n",
       "        text-align: right;\n",
       "    }\n",
       "</style>\n",
       "<table border=\"1\" class=\"dataframe\">\n",
       "  <thead>\n",
       "    <tr style=\"text-align: right;\">\n",
       "      <th></th>\n",
       "      <th>A</th>\n",
       "      <th>B</th>\n",
       "      <th>C</th>\n",
       "    </tr>\n",
       "  </thead>\n",
       "  <tbody>\n",
       "    <tr>\n",
       "      <th>0</th>\n",
       "      <td>0.490</td>\n",
       "      <td>-0.18</td>\n",
       "      <td>11.50</td>\n",
       "    </tr>\n",
       "    <tr>\n",
       "      <th>1</th>\n",
       "      <td>-1.410</td>\n",
       "      <td>-1.23</td>\n",
       "      <td>11.80</td>\n",
       "    </tr>\n",
       "    <tr>\n",
       "      <th>2</th>\n",
       "      <td>0.943</td>\n",
       "      <td>4.51</td>\n",
       "      <td>-3.24</td>\n",
       "    </tr>\n",
       "    <tr>\n",
       "      <th>3</th>\n",
       "      <td>3.570</td>\n",
       "      <td>5.07</td>\n",
       "      <td>-23.90</td>\n",
       "    </tr>\n",
       "    <tr>\n",
       "      <th>4</th>\n",
       "      <td>-1.700</td>\n",
       "      <td>6.91</td>\n",
       "      <td>-22.10</td>\n",
       "    </tr>\n",
       "  </tbody>\n",
       "</table>\n",
       "</div>"
      ],
      "text/plain": [
       "       A     B      C\n",
       "0  0.490 -0.18  11.50\n",
       "1 -1.410 -1.23  11.80\n",
       "2  0.943  4.51  -3.24\n",
       "3  3.570  5.07 -23.90\n",
       "4 -1.700  6.91 -22.10"
      ]
     },
     "execution_count": 4,
     "metadata": {},
     "output_type": "execute_result"
    }
   ],
   "source": [
    "data.head(5)"
   ]
  },
  {
   "cell_type": "markdown",
   "metadata": {},
   "source": [
    "To build a simple linear regression model, we need to check if there is some correlation between the independent variables A,B with respect to C. <br>\n",
    "\n",
    "Also, we need to check if the dependent varibles themselves (A,B) have no correlation with respect to each other. If there is a strong correlation between the independent varibles, we need to drop one of them."
   ]
  },
  {
   "cell_type": "code",
   "execution_count": 5,
   "metadata": {},
   "outputs": [
    {
     "data": {
      "text/html": [
       "<div>\n",
       "<style scoped>\n",
       "    .dataframe tbody tr th:only-of-type {\n",
       "        vertical-align: middle;\n",
       "    }\n",
       "\n",
       "    .dataframe tbody tr th {\n",
       "        vertical-align: top;\n",
       "    }\n",
       "\n",
       "    .dataframe thead th {\n",
       "        text-align: right;\n",
       "    }\n",
       "</style>\n",
       "<table border=\"1\" class=\"dataframe\">\n",
       "  <thead>\n",
       "    <tr style=\"text-align: right;\">\n",
       "      <th></th>\n",
       "      <th>A</th>\n",
       "      <th>B</th>\n",
       "      <th>C</th>\n",
       "    </tr>\n",
       "  </thead>\n",
       "  <tbody>\n",
       "    <tr>\n",
       "      <th>A</th>\n",
       "      <td>1.000000</td>\n",
       "      <td>-0.192345</td>\n",
       "      <td>-0.077280</td>\n",
       "    </tr>\n",
       "    <tr>\n",
       "      <th>B</th>\n",
       "      <td>-0.192345</td>\n",
       "      <td>1.000000</td>\n",
       "      <td>0.006031</td>\n",
       "    </tr>\n",
       "    <tr>\n",
       "      <th>C</th>\n",
       "      <td>-0.077280</td>\n",
       "      <td>0.006031</td>\n",
       "      <td>1.000000</td>\n",
       "    </tr>\n",
       "  </tbody>\n",
       "</table>\n",
       "</div>"
      ],
      "text/plain": [
       "          A         B         C\n",
       "A  1.000000 -0.192345 -0.077280\n",
       "B -0.192345  1.000000  0.006031\n",
       "C -0.077280  0.006031  1.000000"
      ]
     },
     "execution_count": 5,
     "metadata": {},
     "output_type": "execute_result"
    }
   ],
   "source": [
    "data.corr()"
   ]
  },
  {
   "cell_type": "markdown",
   "metadata": {},
   "source": [
    "The matrix above shows the following: <br>\n",
    "1. There is a good negative correlation (-0.618516) between B and C.\n",
    "2. There is hardly any correlation (0.010536 ~ 0) between A and C. \n",
    "3. There is negligible correlation between the dependent variables A and B (-0.187059)\n",
    "\n",
    "We can build a regression model between B and C. The correlation between A & C is not high which means they are not linearly related to each other. \n",
    "\n",
    "Lets build a scatter plot to have a better visual understanding of the correlation values."
   ]
  },
  {
   "cell_type": "code",
   "execution_count": 6,
   "metadata": {},
   "outputs": [
    {
     "data": {
      "image/png": "[encoded data removed]",
      "text/plain": [
       "<Figure size 432x288 with 1 Axes>"
      ]
     },
     "metadata": {
      "needs_background": "light"
     },
     "output_type": "display_data"
    }
   ],
   "source": [
    "# Scatter plot between A and C\n",
    "# Oddly, the plot shows a very strong linear relationship between A and C. \n",
    "# This contradicts the correlation value of 0.010536!!!!\n",
    "\n",
    "import matplotlib.pyplot as plt\n",
    "%matplotlib inline\n",
    "plt.scatter(data[\"A\"], data[\"C\"])\n",
    "plt.xlabel(\"A\")\n",
    "plt.ylabel(\"C\")\n",
    "plt.show()"
   ]
  },
  {
   "cell_type": "code",
   "execution_count": 7,
   "metadata": {},
   "outputs": [
    {
     "data": {
      "image/png": "[encoded data removed]",
      "text/plain": [
       "<Figure size 432x288 with 1 Axes>"
      ]
     },
     "metadata": {
      "needs_background": "light"
     },
     "output_type": "display_data"
    }
   ],
   "source": [
    "# Lets analyse the box plot of the variable A. \n",
    "# The box plot of A looks fine. \n",
    "plt.boxplot(data[\"A\"])\n",
    "plt.show()"
   ]
  },
  {
   "cell_type": "code",
   "execution_count": 8,
   "metadata": {},
   "outputs": [
    {
     "data": {
      "image/png": "[encoded data removed]",
      "text/plain": [
       "<Figure size 432x288 with 1 Axes>"
      ]
     },
     "metadata": {
      "needs_background": "light"
     },
     "output_type": "display_data"
    }
   ],
   "source": [
    "# Lets analyse the box plot of the variable C. \n",
    "# The box plot of C gives an indication that there is an outlier in C. \n",
    "# The outlier seems to be somewhere around -10,000 and its the minimum value for C.\n",
    "\n",
    "plt.boxplot(data[\"C\"])\n",
    "plt.show()"
   ]
  },
  {
   "cell_type": "code",
   "execution_count": 9,
   "metadata": {},
   "outputs": [
    {
     "data": {
      "text/plain": [
       "(299, 3)"
      ]
     },
     "execution_count": 9,
     "metadata": {},
     "output_type": "execute_result"
    }
   ],
   "source": [
    "# Lets remove this outlier from the data where C value is minimum around -10,000. \n",
    "# Since linear regression models are sensitive to outliers, we need to remove them\n",
    "\n",
    "data = data[data.C!=data.C.min()]\n",
    "data.shape"
   ]
  },
  {
   "cell_type": "code",
   "execution_count": 10,
   "metadata": {},
   "outputs": [
    {
     "data": {
      "image/png": "[encoded data removed]",
      "text/plain": [
       "<Figure size 432x288 with 1 Axes>"
      ]
     },
     "metadata": {
      "needs_background": "light"
     },
     "output_type": "display_data"
    }
   ],
   "source": [
    "# Boxplot of C again\n",
    "plt.boxplot(data[\"C\"])\n",
    "plt.show()"
   ]
  },
  {
   "cell_type": "markdown",
   "metadata": {},
   "source": [
    "Now the outliers are not present in the data. And the boxplot of C looks fine"
   ]
  },
  {
   "cell_type": "code",
   "execution_count": 18,
   "metadata": {},
   "outputs": [
    {
     "data": {
      "text/plain": [
       "Text(0, 0.5, 'C')"
      ]
     },
     "execution_count": 18,
     "metadata": {},
     "output_type": "execute_result"
    },
    {
     "data": {
      "image/png": "[encoded data removed]",
      "text/plain": [
       "<Figure size 432x288 with 1 Axes>"
      ]
     },
     "metadata": {
      "needs_background": "light"
     },
     "output_type": "display_data"
    }
   ],
   "source": [
    "# The plot between B and C shows a good linear relationship between the two.\n",
    "\n",
    "plt.plot(data[\"B\"], data[\"C\"], 'o')\n",
    "plt.xlabel(\"B\", size=30)\n",
    "plt.ylabel(\"C\", size=30)"
   ]
  },
  {
   "cell_type": "markdown",
   "metadata": {},
   "source": [
    "###  Split data into train and test"
   ]
  },
  {
   "cell_type": "code",
   "execution_count": 19,
   "metadata": {},
   "outputs": [
    {
     "data": {
      "text/plain": [
       "299"
      ]
     },
     "execution_count": 19,
     "metadata": {},
     "output_type": "execute_result"
    }
   ],
   "source": [
    "len(data)"
   ]
  },
  {
   "cell_type": "code",
   "execution_count": 20,
   "metadata": {},
   "outputs": [],
   "source": [
    "# Adding the intercept term for the data\n",
    "# This intercept term is required for regression\n",
    "\n",
    "data[\"intercept\"] = 1"
   ]
  },
  {
   "cell_type": "code",
   "execution_count": 21,
   "metadata": {},
   "outputs": [],
   "source": [
    "# Lets split the data with 80% as training data and 20% as test data\n",
    "\n",
    "def split_data(data, train_split=0.8):\n",
    "    samples = len(data)\n",
    "    train_end_index = int(samples * train_split)\n",
    "    \n",
    "    train_df = data[0:train_end_index]\n",
    "    test_df = data[train_end_index:]\n",
    "    return train_df, test_df\n",
    "    "
   ]
  },
  {
   "cell_type": "code",
   "execution_count": 22,
   "metadata": {},
   "outputs": [
    {
     "data": {
      "text/plain": [
       "((239, 4), (60, 4))"
      ]
     },
     "execution_count": 22,
     "metadata": {},
     "output_type": "execute_result"
    }
   ],
   "source": [
    "train, test = split_data(data)\n",
    "train.shape, test.shape"
   ]
  },
  {
   "cell_type": "code",
   "execution_count": 23,
   "metadata": {},
   "outputs": [],
   "source": [
    "X_train = train[[\"B\", \"intercept\"]]\n",
    "y_train = train[\"C\"]\n",
    "\n",
    "X_test = test[[\"B\", \"intercept\"]]\n",
    "y_test = test[\"C\"]"
   ]
  },
  {
   "cell_type": "markdown",
   "metadata": {},
   "source": [
    "### Linear Regression model using the closed form solution\n",
    "\n",
    "\n",
    "$ \\beta = (X^TX)^{-1}X^T y $\n",
    "\n",
    "The reason for using closed form solution is that the size of data is small and the number of features is less.\n",
    "If the number of features or the size of data is huge, we would have to use Gradient Descent or Batch Gradient descent for updating weights"
   ]
  },
  {
   "cell_type": "code",
   "execution_count": 24,
   "metadata": {},
   "outputs": [],
   "source": [
    "# Calculate the coefficients using the closed form solution.\n",
    "\n",
    "coeffs = inv(X_train.transpose().dot(X_train)).dot(X_train.transpose()).dot(y_train)"
   ]
  },
  {
   "cell_type": "code",
   "execution_count": 25,
   "metadata": {},
   "outputs": [
    {
     "data": {
      "text/plain": [
       "array([-10.45520242,  16.65981496])"
      ]
     },
     "execution_count": 25,
     "metadata": {},
     "output_type": "execute_result"
    }
   ],
   "source": [
    "coeffs"
   ]
  },
  {
   "cell_type": "code",
   "execution_count": 26,
   "metadata": {},
   "outputs": [
    {
     "data": {
      "text/plain": [
       "{'B': -10.455202421603552, 'intercept': 16.659814956526265}"
      ]
     },
     "execution_count": 26,
     "metadata": {},
     "output_type": "execute_result"
    }
   ],
   "source": [
    "# zip the coeffecient values along with the features names\n",
    "# The coefficient for the feature A is really low because there is no strong linear relationship between A and C.\n",
    "\n",
    "dict(zip(list(X_train.columns), list(coeffs)))"
   ]
  },
  {
   "cell_type": "code",
   "execution_count": 27,
   "metadata": {},
   "outputs": [],
   "source": [
    "# Defining a function to calculate the root mean square error of the model.\n",
    "\n",
    "def rmse(y, y_pred):\n",
    "    rmse = np.sqrt(sum((y - y_pred)**2)/len(y))\n",
    "    return rmse"
   ]
  },
  {
   "cell_type": "code",
   "execution_count": 28,
   "metadata": {},
   "outputs": [],
   "source": [
    "# Defining a function to calculate the R-squared value of the model.\n",
    "\n",
    "def r_square(y, y_pred):\n",
    "    mean_y = np.mean(y)\n",
    "    sst = sum((y - mean_y)**2)\n",
    "    sse = sum((y - y_pred)**2)\n",
    "    r2 = 1 - (sse/sst)\n",
    "    return r2"
   ]
  },
  {
   "cell_type": "code",
   "execution_count": 29,
   "metadata": {},
   "outputs": [
    {
     "name": "stdout",
     "output_type": "stream",
     "text": [
      "Train RMSE 44.330127471323934\n",
      "Train R-square 0.33785710319995466\n",
      "\n",
      "\n",
      "Test RMSE 93.03838077380637\n",
      "Test R-square 0.3506313364988114\n"
     ]
    }
   ],
   "source": [
    "# Use the functions and calculate train and test data RMSE and R-Squared\n",
    "\n",
    "# Train rmse and train rsquare\n",
    "\n",
    "y_pred_train = X_train.dot(coeffs)\n",
    "y_pred_test = X_test.dot(coeffs)\n",
    "\n",
    "print(\"Train RMSE\", rmse(y_train, y_pred_train))\n",
    "print(\"Train R-square\", r_square(y_train, y_pred_train))\n",
    "print(\"\\n\")\n",
    "print(\"Test RMSE\", rmse(y_test, y_pred_test))\n",
    "print(\"Test R-square\", r_square(y_test, y_pred_test))\n"
   ]
  },
  {
   "cell_type": "code",
   "execution_count": 35,
   "metadata": {},
   "outputs": [
    {
     "data": {
      "image/png": "[encoded data removed]",
      "text/plain": [
       "<Figure size 432x288 with 1 Axes>"
      ]
     },
     "metadata": {
      "needs_background": "light"
     },
     "output_type": "display_data"
    }
   ],
   "source": [
    "# Plot for regression line on the training data\n",
    "\n",
    "plt.plot(X_train[\"B\"], y_train, 'o', label=\"data\")\n",
    "plt.plot(X_train[\"B\"], coeffs[0]*X_train[\"B\"] + coeffs[1], label=\"regression line\")\n",
    "plt.xlabel(\"B\", size=30)\n",
    "plt.ylabel(\"C\", size=30)\n",
    "plt.legend(loc=\"upper right\")\n",
    "plt.show()"
   ]
  },
  {
   "cell_type": "code",
   "execution_count": 40,
   "metadata": {},
   "outputs": [
    {
     "data": {
      "image/png": "[encoded data removed]",
      "text/plain": [
       "<Figure size 432x288 with 1 Axes>"
      ]
     },
     "metadata": {
      "needs_background": "light"
     },
     "output_type": "display_data"
    }
   ],
   "source": [
    "# Plot for the regression line on the whole data\n",
    "\n",
    "plt.plot(data[\"B\"], data[\"C\"], 'o', label=\"data\")\n",
    "plt.plot(data[\"B\"], coeffs[0]*data[\"B\"] + coeffs[1], label=\"regression line\")\n",
    "plt.xlabel(\"B\", size=30)\n",
    "plt.ylabel(\"C\", size=30)\n",
    "plt.legend(loc=\"upper right\")\n",
    "plt.show()"
   ]
  },
  {
   "cell_type": "code",
   "execution_count": null,
   "metadata": {},
   "outputs": [],
   "source": []
  }
 ],
 "metadata": {
  "kernelspec": {
   "display_name": "Python 3",
   "language": "python",
   "name": "python3"
  },
  "language_info": {
   "codemirror_mode": {
    "name": "ipython",
    "version": 3
   },
   "file_extension": ".py",
   "mimetype": "text/x-python",
   "name": "python",
   "nbconvert_exporter": "python",
   "pygments_lexer": "ipython3",
   "version": "3.7.3"
  }
 },
 "nbformat": 4,
 "nbformat_minor": 2
}
