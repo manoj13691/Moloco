{
 "cells": [
  {
   "cell_type": "code",
   "execution_count": 1,
   "metadata": {},
   "outputs": [],
   "source": [
    "import pandas as pd"
   ]
  },
  {
   "cell_type": "code",
   "execution_count": 2,
   "metadata": {},
   "outputs": [],
   "source": [
    "data = pd.read_csv(\"Adops & Data Scientist Sample Data - Q1 Analytics.csv\")"
   ]
  },
  {
   "cell_type": "code",
   "execution_count": 3,
   "metadata": {},
   "outputs": [
    {
     "data": {
      "text/html": [
       "<div>\n",
       "<style scoped>\n",
       "    .dataframe tbody tr th:only-of-type {\n",
       "        vertical-align: middle;\n",
       "    }\n",
       "\n",
       "    .dataframe tbody tr th {\n",
       "        vertical-align: top;\n",
       "    }\n",
       "\n",
       "    .dataframe thead th {\n",
       "        text-align: right;\n",
       "    }\n",
       "</style>\n",
       "<table border=\"1\" class=\"dataframe\">\n",
       "  <thead>\n",
       "    <tr style=\"text-align: right;\">\n",
       "      <th></th>\n",
       "      <th>ts</th>\n",
       "      <th>user_id</th>\n",
       "      <th>country_id</th>\n",
       "      <th>site_id</th>\n",
       "    </tr>\n",
       "  </thead>\n",
       "  <tbody>\n",
       "    <tr>\n",
       "      <th>0</th>\n",
       "      <td>2019-02-01 00:01:24</td>\n",
       "      <td>LC36FC</td>\n",
       "      <td>TL6</td>\n",
       "      <td>N0OTG</td>\n",
       "    </tr>\n",
       "    <tr>\n",
       "      <th>1</th>\n",
       "      <td>2019-02-01 00:10:19</td>\n",
       "      <td>LC39B6</td>\n",
       "      <td>TL6</td>\n",
       "      <td>N0OTG</td>\n",
       "    </tr>\n",
       "    <tr>\n",
       "      <th>2</th>\n",
       "      <td>2019-02-01 00:21:50</td>\n",
       "      <td>LC3500</td>\n",
       "      <td>TL6</td>\n",
       "      <td>N0OTG</td>\n",
       "    </tr>\n",
       "    <tr>\n",
       "      <th>3</th>\n",
       "      <td>2019-02-01 00:22:50</td>\n",
       "      <td>LC374F</td>\n",
       "      <td>TL6</td>\n",
       "      <td>N0OTG</td>\n",
       "    </tr>\n",
       "    <tr>\n",
       "      <th>4</th>\n",
       "      <td>2019-02-01 00:23:44</td>\n",
       "      <td>LCC1C3</td>\n",
       "      <td>TL6</td>\n",
       "      <td>QGO3G</td>\n",
       "    </tr>\n",
       "  </tbody>\n",
       "</table>\n",
       "</div>"
      ],
      "text/plain": [
       "                    ts user_id country_id site_id\n",
       "0  2019-02-01 00:01:24  LC36FC        TL6   N0OTG\n",
       "1  2019-02-01 00:10:19  LC39B6        TL6   N0OTG\n",
       "2  2019-02-01 00:21:50  LC3500        TL6   N0OTG\n",
       "3  2019-02-01 00:22:50  LC374F        TL6   N0OTG\n",
       "4  2019-02-01 00:23:44  LCC1C3        TL6   QGO3G"
      ]
     },
     "execution_count": 3,
     "metadata": {},
     "output_type": "execute_result"
    }
   ],
   "source": [
    "data.head()"
   ]
  },
  {
   "cell_type": "markdown",
   "metadata": {},
   "source": [
    "## Question 1"
   ]
  },
  {
   "cell_type": "markdown",
   "metadata": {},
   "source": [
    "Consider only the rows with country_id = \"BDV\" (there are 844 such rows). For each site_id, we can compute the number of unique user_id's found in these 844 rows. Which site_id has the largest number of unique users? And what's the number?\n"
   ]
  },
  {
   "cell_type": "code",
   "execution_count": 4,
   "metadata": {},
   "outputs": [],
   "source": [
    "# Filter the data on country id and store it in a separate variable\n",
    "\n",
    "sub_df = data[data.country_id==\"BDV\"][[\"site_id\",\"user_id\"]]"
   ]
  },
  {
   "cell_type": "code",
   "execution_count": 6,
   "metadata": {},
   "outputs": [],
   "source": [
    "# Group the data for country_id=BDV on site_id \n",
    "\n",
    "grouped_by_site_id = sub_df.groupby([\"site_id\"]).nunique()"
   ]
  },
  {
   "cell_type": "code",
   "execution_count": 14,
   "metadata": {},
   "outputs": [
    {
     "data": {
      "text/html": [
       "<div>\n",
       "<style scoped>\n",
       "    .dataframe tbody tr th:only-of-type {\n",
       "        vertical-align: middle;\n",
       "    }\n",
       "\n",
       "    .dataframe tbody tr th {\n",
       "        vertical-align: top;\n",
       "    }\n",
       "\n",
       "    .dataframe thead th {\n",
       "        text-align: right;\n",
       "    }\n",
       "</style>\n",
       "<table border=\"1\" class=\"dataframe\">\n",
       "  <thead>\n",
       "    <tr style=\"text-align: right;\">\n",
       "      <th></th>\n",
       "      <th>site_id</th>\n",
       "      <th>user_id</th>\n",
       "    </tr>\n",
       "    <tr>\n",
       "      <th>site_id</th>\n",
       "      <th></th>\n",
       "      <th></th>\n",
       "    </tr>\n",
       "  </thead>\n",
       "  <tbody>\n",
       "    <tr>\n",
       "      <th>5NPAU</th>\n",
       "      <td>1</td>\n",
       "      <td>544</td>\n",
       "    </tr>\n",
       "  </tbody>\n",
       "</table>\n",
       "</div>"
      ],
      "text/plain": [
       "         site_id  user_id\n",
       "site_id                  \n",
       "5NPAU          1      544"
      ]
     },
     "execution_count": 14,
     "metadata": {},
     "output_type": "execute_result"
    }
   ],
   "source": [
    "# Sort (in descending order) the grouped data frame on user_id and take the first row\n",
    "\n",
    "grouped_by_site_id.sort_values('user_id', ascending=False).head(1)"
   ]
  },
  {
   "cell_type": "markdown",
   "metadata": {},
   "source": [
    "## Question 2"
   ]
  },
  {
   "cell_type": "markdown",
   "metadata": {},
   "source": [
    "Between 2019-02-03 00:00:00 and 2019-02-04 23:59:59, there are four users who visited a certain site more than 10 times. Find these four users & which sites they (each) visited more than 10 times. (Simply provides four triples in the form (user_id, site_id, number of visits) in the box below.)"
   ]
  },
  {
   "cell_type": "code",
   "execution_count": 15,
   "metadata": {},
   "outputs": [],
   "source": [
    "# Subset the data based on the timestamp condition\n",
    "\n",
    "sub_df = data[(data.ts >= '2019-02-03 00:00:00') & (data.ts <= '2019-02-04 23:59:59') ]"
   ]
  },
  {
   "cell_type": "code",
   "execution_count": 20,
   "metadata": {},
   "outputs": [
    {
     "data": {
      "text/html": [
       "<div>\n",
       "<style scoped>\n",
       "    .dataframe tbody tr th:only-of-type {\n",
       "        vertical-align: middle;\n",
       "    }\n",
       "\n",
       "    .dataframe tbody tr th {\n",
       "        vertical-align: top;\n",
       "    }\n",
       "\n",
       "    .dataframe thead th {\n",
       "        text-align: right;\n",
       "    }\n",
       "</style>\n",
       "<table border=\"1\" class=\"dataframe\">\n",
       "  <thead>\n",
       "    <tr style=\"text-align: right;\">\n",
       "      <th></th>\n",
       "      <th></th>\n",
       "      <th>ts</th>\n",
       "      <th>country_id</th>\n",
       "    </tr>\n",
       "    <tr>\n",
       "      <th>user_id</th>\n",
       "      <th>site_id</th>\n",
       "      <th></th>\n",
       "      <th></th>\n",
       "    </tr>\n",
       "  </thead>\n",
       "  <tbody>\n",
       "    <tr>\n",
       "      <th>LC00C3</th>\n",
       "      <th>5NPAU</th>\n",
       "      <td>1</td>\n",
       "      <td>1</td>\n",
       "    </tr>\n",
       "    <tr>\n",
       "      <th>LC01C3</th>\n",
       "      <th>5NPAU</th>\n",
       "      <td>1</td>\n",
       "      <td>1</td>\n",
       "    </tr>\n",
       "    <tr>\n",
       "      <th rowspan=\"2\" valign=\"top\">LC06C3</th>\n",
       "      <th>GVOFK</th>\n",
       "      <td>1</td>\n",
       "      <td>1</td>\n",
       "    </tr>\n",
       "    <tr>\n",
       "      <th>N0OTG</th>\n",
       "      <td>25</td>\n",
       "      <td>25</td>\n",
       "    </tr>\n",
       "    <tr>\n",
       "      <th>LC0C3E</th>\n",
       "      <th>N0OTG</th>\n",
       "      <td>1</td>\n",
       "      <td>1</td>\n",
       "    </tr>\n",
       "    <tr>\n",
       "      <th>...</th>\n",
       "      <th>...</th>\n",
       "      <td>...</td>\n",
       "      <td>...</td>\n",
       "    </tr>\n",
       "    <tr>\n",
       "      <th>LCDFC3</th>\n",
       "      <th>N0OTG</th>\n",
       "      <td>1</td>\n",
       "      <td>1</td>\n",
       "    </tr>\n",
       "    <tr>\n",
       "      <th>LCE2C3</th>\n",
       "      <th>5NPAU</th>\n",
       "      <td>3</td>\n",
       "      <td>3</td>\n",
       "    </tr>\n",
       "    <tr>\n",
       "      <th>LCE4C3</th>\n",
       "      <th>N0OTG</th>\n",
       "      <td>1</td>\n",
       "      <td>1</td>\n",
       "    </tr>\n",
       "    <tr>\n",
       "      <th>LCFC32</th>\n",
       "      <th>5NPAU</th>\n",
       "      <td>1</td>\n",
       "      <td>1</td>\n",
       "    </tr>\n",
       "    <tr>\n",
       "      <th>LCFFC3</th>\n",
       "      <th>N0OTG</th>\n",
       "      <td>1</td>\n",
       "      <td>1</td>\n",
       "    </tr>\n",
       "  </tbody>\n",
       "</table>\n",
       "<p>746 rows × 2 columns</p>\n",
       "</div>"
      ],
      "text/plain": [
       "                 ts  country_id\n",
       "user_id site_id                \n",
       "LC00C3  5NPAU     1           1\n",
       "LC01C3  5NPAU     1           1\n",
       "LC06C3  GVOFK     1           1\n",
       "        N0OTG    25          25\n",
       "LC0C3E  N0OTG     1           1\n",
       "...              ..         ...\n",
       "LCDFC3  N0OTG     1           1\n",
       "LCE2C3  5NPAU     3           3\n",
       "LCE4C3  N0OTG     1           1\n",
       "LCFC32  5NPAU     1           1\n",
       "LCFFC3  N0OTG     1           1\n",
       "\n",
       "[746 rows x 2 columns]"
      ]
     },
     "execution_count": 20,
     "metadata": {},
     "output_type": "execute_result"
    }
   ],
   "source": [
    "sub_df.groupby([\"user_id\", \"site_id\"]).count()"
   ]
  },
  {
   "cell_type": "code",
   "execution_count": 21,
   "metadata": {},
   "outputs": [],
   "source": [
    "# Group the subset on user_id and site_id. Then take it count.\n",
    "# Reset the index to make sure user_id appears as a column instead of index\n",
    "# Sort the resulting dataframe in descending order on ts - this contains how many time user_id \"i\" visited\n",
    "#.... a site with site_id \"j\"\n",
    "\n",
    "final_df = sub_df.groupby([\"user_id\", \"site_id\"]).count().reset_index().sort_values(\"ts\", ascending=False)"
   ]
  },
  {
   "cell_type": "code",
   "execution_count": 23,
   "metadata": {},
   "outputs": [
    {
     "data": {
      "text/html": [
       "<div>\n",
       "<style scoped>\n",
       "    .dataframe tbody tr th:only-of-type {\n",
       "        vertical-align: middle;\n",
       "    }\n",
       "\n",
       "    .dataframe tbody tr th {\n",
       "        vertical-align: top;\n",
       "    }\n",
       "\n",
       "    .dataframe thead th {\n",
       "        text-align: right;\n",
       "    }\n",
       "</style>\n",
       "<table border=\"1\" class=\"dataframe\">\n",
       "  <thead>\n",
       "    <tr style=\"text-align: right;\">\n",
       "      <th></th>\n",
       "      <th>user_id</th>\n",
       "      <th>site_id</th>\n",
       "      <th>ts</th>\n",
       "      <th>country_id</th>\n",
       "    </tr>\n",
       "  </thead>\n",
       "  <tbody>\n",
       "    <tr>\n",
       "      <th>417</th>\n",
       "      <td>LC3A59</td>\n",
       "      <td>N0OTG</td>\n",
       "      <td>26</td>\n",
       "      <td>26</td>\n",
       "    </tr>\n",
       "    <tr>\n",
       "      <th>3</th>\n",
       "      <td>LC06C3</td>\n",
       "      <td>N0OTG</td>\n",
       "      <td>25</td>\n",
       "      <td>25</td>\n",
       "    </tr>\n",
       "    <tr>\n",
       "      <th>493</th>\n",
       "      <td>LC3C9D</td>\n",
       "      <td>N0OTG</td>\n",
       "      <td>17</td>\n",
       "      <td>17</td>\n",
       "    </tr>\n",
       "    <tr>\n",
       "      <th>485</th>\n",
       "      <td>LC3C7E</td>\n",
       "      <td>3POLC</td>\n",
       "      <td>15</td>\n",
       "      <td>15</td>\n",
       "    </tr>\n",
       "  </tbody>\n",
       "</table>\n",
       "</div>"
      ],
      "text/plain": [
       "    user_id site_id  ts  country_id\n",
       "417  LC3A59   N0OTG  26          26\n",
       "3    LC06C3   N0OTG  25          25\n",
       "493  LC3C9D   N0OTG  17          17\n",
       "485  LC3C7E   3POLC  15          15"
      ]
     },
     "execution_count": 23,
     "metadata": {},
     "output_type": "execute_result"
    }
   ],
   "source": [
    "# From the resulting data frame, select rows/users which have atleast 10 visits to those site_id's\n",
    "\n",
    "final_df[final_df.ts > 10]"
   ]
  },
  {
   "cell_type": "markdown",
   "metadata": {},
   "source": [
    "## Question 3"
   ]
  },
  {
   "cell_type": "markdown",
   "metadata": {},
   "source": [
    "For each site, compute the unique number of users whose last visit (found in the original data set) was to that site. For instance, user \"LC3561\"'s last visit is to \"N0OTG\" based on timestamp data. Based on this measure, what are top three sites? (hint: site \"3POLC\" is ranked at 5th with 28 users whose last visit in the data set was to 3POLC; simply provide three pairs in the form (site_id, number of users).)"
   ]
  },
  {
   "cell_type": "code",
   "execution_count": 32,
   "metadata": {},
   "outputs": [],
   "source": [
    "# Group the data on user_id and get the last timestamp for every user_id\n",
    "user_id_with_timestamp = data.groupby([\"user_id\"])[\"ts\"].max().reset_index()"
   ]
  },
  {
   "cell_type": "code",
   "execution_count": 33,
   "metadata": {},
   "outputs": [
    {
     "data": {
      "text/html": [
       "<div>\n",
       "<style scoped>\n",
       "    .dataframe tbody tr th:only-of-type {\n",
       "        vertical-align: middle;\n",
       "    }\n",
       "\n",
       "    .dataframe tbody tr th {\n",
       "        vertical-align: top;\n",
       "    }\n",
       "\n",
       "    .dataframe thead th {\n",
       "        text-align: right;\n",
       "    }\n",
       "</style>\n",
       "<table border=\"1\" class=\"dataframe\">\n",
       "  <thead>\n",
       "    <tr style=\"text-align: right;\">\n",
       "      <th></th>\n",
       "      <th>user_id</th>\n",
       "      <th>ts</th>\n",
       "    </tr>\n",
       "  </thead>\n",
       "  <tbody>\n",
       "    <tr>\n",
       "      <th>0</th>\n",
       "      <td>LC00C3</td>\n",
       "      <td>2019-02-03 18:52:50</td>\n",
       "    </tr>\n",
       "    <tr>\n",
       "      <th>1</th>\n",
       "      <td>LC01C3</td>\n",
       "      <td>2019-02-04 11:35:10</td>\n",
       "    </tr>\n",
       "    <tr>\n",
       "      <th>2</th>\n",
       "      <td>LC05C3</td>\n",
       "      <td>2019-02-02 14:14:44</td>\n",
       "    </tr>\n",
       "    <tr>\n",
       "      <th>3</th>\n",
       "      <td>LC06C3</td>\n",
       "      <td>2019-02-07 01:16:12</td>\n",
       "    </tr>\n",
       "    <tr>\n",
       "      <th>4</th>\n",
       "      <td>LC07C3</td>\n",
       "      <td>2019-02-05 19:06:42</td>\n",
       "    </tr>\n",
       "  </tbody>\n",
       "</table>\n",
       "</div>"
      ],
      "text/plain": [
       "  user_id                   ts\n",
       "0  LC00C3  2019-02-03 18:52:50\n",
       "1  LC01C3  2019-02-04 11:35:10\n",
       "2  LC05C3  2019-02-02 14:14:44\n",
       "3  LC06C3  2019-02-07 01:16:12\n",
       "4  LC07C3  2019-02-05 19:06:42"
      ]
     },
     "execution_count": 33,
     "metadata": {},
     "output_type": "execute_result"
    }
   ],
   "source": [
    "user_id_with_timestamp.head(5)"
   ]
  },
  {
   "cell_type": "code",
   "execution_count": 36,
   "metadata": {},
   "outputs": [],
   "source": [
    "# Merge the resulting dataframe on the actual data on user_id and ts\n",
    "# This merge helps us to get the country_id and also the site_id \n",
    "# We needed to merge with the actual data to get the site_id which eventually has to be returned\n",
    "\n",
    "merged_with_data_dataframe = user_id_with_timestamp.merge(data, on=[\"user_id\",\"ts\"])"
   ]
  },
  {
   "cell_type": "code",
   "execution_count": 40,
   "metadata": {},
   "outputs": [
    {
     "data": {
      "text/html": [
       "<div>\n",
       "<style scoped>\n",
       "    .dataframe tbody tr th:only-of-type {\n",
       "        vertical-align: middle;\n",
       "    }\n",
       "\n",
       "    .dataframe tbody tr th {\n",
       "        vertical-align: top;\n",
       "    }\n",
       "\n",
       "    .dataframe thead th {\n",
       "        text-align: right;\n",
       "    }\n",
       "</style>\n",
       "<table border=\"1\" class=\"dataframe\">\n",
       "  <thead>\n",
       "    <tr style=\"text-align: right;\">\n",
       "      <th></th>\n",
       "      <th>user_id</th>\n",
       "      <th>ts</th>\n",
       "      <th>country_id</th>\n",
       "      <th>site_id</th>\n",
       "    </tr>\n",
       "  </thead>\n",
       "  <tbody>\n",
       "    <tr>\n",
       "      <th>0</th>\n",
       "      <td>LC00C3</td>\n",
       "      <td>2019-02-03 18:52:50</td>\n",
       "      <td>QLT</td>\n",
       "      <td>5NPAU</td>\n",
       "    </tr>\n",
       "    <tr>\n",
       "      <th>1</th>\n",
       "      <td>LC01C3</td>\n",
       "      <td>2019-02-04 11:35:10</td>\n",
       "      <td>QLT</td>\n",
       "      <td>5NPAU</td>\n",
       "    </tr>\n",
       "    <tr>\n",
       "      <th>2</th>\n",
       "      <td>LC05C3</td>\n",
       "      <td>2019-02-02 14:14:44</td>\n",
       "      <td>BDV</td>\n",
       "      <td>5NPAU</td>\n",
       "    </tr>\n",
       "    <tr>\n",
       "      <th>3</th>\n",
       "      <td>LC06C3</td>\n",
       "      <td>2019-02-07 01:16:12</td>\n",
       "      <td>TL6</td>\n",
       "      <td>N0OTG</td>\n",
       "    </tr>\n",
       "    <tr>\n",
       "      <th>4</th>\n",
       "      <td>LC07C3</td>\n",
       "      <td>2019-02-05 19:06:42</td>\n",
       "      <td>BDV</td>\n",
       "      <td>5NPAU</td>\n",
       "    </tr>\n",
       "  </tbody>\n",
       "</table>\n",
       "</div>"
      ],
      "text/plain": [
       "  user_id                   ts country_id site_id\n",
       "0  LC00C3  2019-02-03 18:52:50        QLT   5NPAU\n",
       "1  LC01C3  2019-02-04 11:35:10        QLT   5NPAU\n",
       "2  LC05C3  2019-02-02 14:14:44        BDV   5NPAU\n",
       "3  LC06C3  2019-02-07 01:16:12        TL6   N0OTG\n",
       "4  LC07C3  2019-02-05 19:06:42        BDV   5NPAU"
      ]
     },
     "execution_count": 40,
     "metadata": {},
     "output_type": "execute_result"
    }
   ],
   "source": [
    "merged_with_data_dataframe.head(5)"
   ]
  },
  {
   "cell_type": "code",
   "execution_count": 39,
   "metadata": {},
   "outputs": [
    {
     "data": {
      "text/plain": [
       "((1916, 2), (1916, 4))"
      ]
     },
     "execution_count": 39,
     "metadata": {},
     "output_type": "execute_result"
    }
   ],
   "source": [
    "# Check if the merged data frame has the same shape with respect to the dataframe user_id_with_timestamp\n",
    "# ... which was created before merging\n",
    "\n",
    "user_id_with_timestamp.shape, merged_with_data_dataframe.shape"
   ]
  },
  {
   "cell_type": "code",
   "execution_count": 44,
   "metadata": {},
   "outputs": [
    {
     "data": {
      "text/html": [
       "<div>\n",
       "<style scoped>\n",
       "    .dataframe tbody tr th:only-of-type {\n",
       "        vertical-align: middle;\n",
       "    }\n",
       "\n",
       "    .dataframe tbody tr th {\n",
       "        vertical-align: top;\n",
       "    }\n",
       "\n",
       "    .dataframe thead th {\n",
       "        text-align: right;\n",
       "    }\n",
       "</style>\n",
       "<table border=\"1\" class=\"dataframe\">\n",
       "  <thead>\n",
       "    <tr style=\"text-align: right;\">\n",
       "      <th></th>\n",
       "      <th>site_id</th>\n",
       "      <th>ts</th>\n",
       "    </tr>\n",
       "  </thead>\n",
       "  <tbody>\n",
       "    <tr>\n",
       "      <th>1</th>\n",
       "      <td>5NPAU</td>\n",
       "      <td>992</td>\n",
       "    </tr>\n",
       "    <tr>\n",
       "      <th>5</th>\n",
       "      <td>N0OTG</td>\n",
       "      <td>561</td>\n",
       "    </tr>\n",
       "    <tr>\n",
       "      <th>6</th>\n",
       "      <td>QGO3G</td>\n",
       "      <td>289</td>\n",
       "    </tr>\n",
       "  </tbody>\n",
       "</table>\n",
       "</div>"
      ],
      "text/plain": [
       "  site_id   ts\n",
       "1   5NPAU  992\n",
       "5   N0OTG  561\n",
       "6   QGO3G  289"
      ]
     },
     "execution_count": 44,
     "metadata": {},
     "output_type": "execute_result"
    }
   ],
   "source": [
    "# Group the merged data frame with site_id and then take a count on either \"ts\" or \"user_id\" - lets take \"ts\"\n",
    "# sort the count values in descending order and take the top 3\n",
    "\n",
    "merged_with_data_dataframe.groupby(\"site_id\").ts.count().reset_index().sort_values(\"ts\", ascending=False).head(3)"
   ]
  },
  {
   "cell_type": "markdown",
   "metadata": {},
   "source": [
    "## Question 4"
   ]
  },
  {
   "cell_type": "markdown",
   "metadata": {},
   "source": [
    "For each user, determine the first site he/she visited and the last site he/she visited based on the timestamp data. Compute the number of users whose first/last visits are to the same website. What is the number?"
   ]
  },
  {
   "cell_type": "code",
   "execution_count": 45,
   "metadata": {},
   "outputs": [],
   "source": [
    "# Create two data frames by grouping on user_id\n",
    "# one for ther first site the user visited - min_ts_df\n",
    "# other for the last site the user visited - max_ts_df\n",
    "\n",
    "min_ts_df = data.groupby([\"user_id\"])[\"ts\"].min().reset_index()\n",
    "max_ts_df = data.groupby([\"user_id\"])[\"ts\"].max().reset_index()"
   ]
  },
  {
   "cell_type": "code",
   "execution_count": 47,
   "metadata": {},
   "outputs": [
    {
     "data": {
      "text/html": [
       "<div>\n",
       "<style scoped>\n",
       "    .dataframe tbody tr th:only-of-type {\n",
       "        vertical-align: middle;\n",
       "    }\n",
       "\n",
       "    .dataframe tbody tr th {\n",
       "        vertical-align: top;\n",
       "    }\n",
       "\n",
       "    .dataframe thead th {\n",
       "        text-align: right;\n",
       "    }\n",
       "</style>\n",
       "<table border=\"1\" class=\"dataframe\">\n",
       "  <thead>\n",
       "    <tr style=\"text-align: right;\">\n",
       "      <th></th>\n",
       "      <th>user_id</th>\n",
       "      <th>ts</th>\n",
       "    </tr>\n",
       "  </thead>\n",
       "  <tbody>\n",
       "    <tr>\n",
       "      <th>0</th>\n",
       "      <td>LC00C3</td>\n",
       "      <td>2019-02-03 18:52:50</td>\n",
       "    </tr>\n",
       "    <tr>\n",
       "      <th>1</th>\n",
       "      <td>LC01C3</td>\n",
       "      <td>2019-02-04 11:35:10</td>\n",
       "    </tr>\n",
       "    <tr>\n",
       "      <th>2</th>\n",
       "      <td>LC05C3</td>\n",
       "      <td>2019-02-02 14:14:44</td>\n",
       "    </tr>\n",
       "    <tr>\n",
       "      <th>3</th>\n",
       "      <td>LC06C3</td>\n",
       "      <td>2019-02-01 22:49:39</td>\n",
       "    </tr>\n",
       "    <tr>\n",
       "      <th>4</th>\n",
       "      <td>LC07C3</td>\n",
       "      <td>2019-02-05 19:06:42</td>\n",
       "    </tr>\n",
       "  </tbody>\n",
       "</table>\n",
       "</div>"
      ],
      "text/plain": [
       "  user_id                   ts\n",
       "0  LC00C3  2019-02-03 18:52:50\n",
       "1  LC01C3  2019-02-04 11:35:10\n",
       "2  LC05C3  2019-02-02 14:14:44\n",
       "3  LC06C3  2019-02-01 22:49:39\n",
       "4  LC07C3  2019-02-05 19:06:42"
      ]
     },
     "execution_count": 47,
     "metadata": {},
     "output_type": "execute_result"
    }
   ],
   "source": [
    "min_ts_df.head(5)"
   ]
  },
  {
   "cell_type": "code",
   "execution_count": 50,
   "metadata": {},
   "outputs": [],
   "source": [
    "# Merge the min_ts_df, max_ts_df with the actual data frame on user_id and ts\n",
    "# We need to merge with. the actual data to get the site id\n",
    "\n",
    "min_ts_data_merged = min_ts_df.merge(data, on = [\"user_id\", \"ts\"])\n",
    "max_ts_data_merged = max_ts_df.merge(data, on=[\"user_id\", \"ts\"])"
   ]
  },
  {
   "cell_type": "code",
   "execution_count": 51,
   "metadata": {},
   "outputs": [
    {
     "data": {
      "text/html": [
       "<div>\n",
       "<style scoped>\n",
       "    .dataframe tbody tr th:only-of-type {\n",
       "        vertical-align: middle;\n",
       "    }\n",
       "\n",
       "    .dataframe tbody tr th {\n",
       "        vertical-align: top;\n",
       "    }\n",
       "\n",
       "    .dataframe thead th {\n",
       "        text-align: right;\n",
       "    }\n",
       "</style>\n",
       "<table border=\"1\" class=\"dataframe\">\n",
       "  <thead>\n",
       "    <tr style=\"text-align: right;\">\n",
       "      <th></th>\n",
       "      <th>user_id</th>\n",
       "      <th>ts</th>\n",
       "      <th>country_id</th>\n",
       "      <th>site_id</th>\n",
       "    </tr>\n",
       "  </thead>\n",
       "  <tbody>\n",
       "    <tr>\n",
       "      <th>0</th>\n",
       "      <td>LC00C3</td>\n",
       "      <td>2019-02-03 18:52:50</td>\n",
       "      <td>QLT</td>\n",
       "      <td>5NPAU</td>\n",
       "    </tr>\n",
       "    <tr>\n",
       "      <th>1</th>\n",
       "      <td>LC01C3</td>\n",
       "      <td>2019-02-04 11:35:10</td>\n",
       "      <td>QLT</td>\n",
       "      <td>5NPAU</td>\n",
       "    </tr>\n",
       "    <tr>\n",
       "      <th>2</th>\n",
       "      <td>LC05C3</td>\n",
       "      <td>2019-02-02 14:14:44</td>\n",
       "      <td>BDV</td>\n",
       "      <td>5NPAU</td>\n",
       "    </tr>\n",
       "    <tr>\n",
       "      <th>3</th>\n",
       "      <td>LC06C3</td>\n",
       "      <td>2019-02-01 22:49:39</td>\n",
       "      <td>TL6</td>\n",
       "      <td>N0OTG</td>\n",
       "    </tr>\n",
       "    <tr>\n",
       "      <th>4</th>\n",
       "      <td>LC07C3</td>\n",
       "      <td>2019-02-05 19:06:42</td>\n",
       "      <td>BDV</td>\n",
       "      <td>5NPAU</td>\n",
       "    </tr>\n",
       "  </tbody>\n",
       "</table>\n",
       "</div>"
      ],
      "text/plain": [
       "  user_id                   ts country_id site_id\n",
       "0  LC00C3  2019-02-03 18:52:50        QLT   5NPAU\n",
       "1  LC01C3  2019-02-04 11:35:10        QLT   5NPAU\n",
       "2  LC05C3  2019-02-02 14:14:44        BDV   5NPAU\n",
       "3  LC06C3  2019-02-01 22:49:39        TL6   N0OTG\n",
       "4  LC07C3  2019-02-05 19:06:42        BDV   5NPAU"
      ]
     },
     "execution_count": 51,
     "metadata": {},
     "output_type": "execute_result"
    }
   ],
   "source": [
    "min_ts_data_merged.head(5)"
   ]
  },
  {
   "cell_type": "code",
   "execution_count": 52,
   "metadata": {},
   "outputs": [
    {
     "data": {
      "text/html": [
       "<div>\n",
       "<style scoped>\n",
       "    .dataframe tbody tr th:only-of-type {\n",
       "        vertical-align: middle;\n",
       "    }\n",
       "\n",
       "    .dataframe tbody tr th {\n",
       "        vertical-align: top;\n",
       "    }\n",
       "\n",
       "    .dataframe thead th {\n",
       "        text-align: right;\n",
       "    }\n",
       "</style>\n",
       "<table border=\"1\" class=\"dataframe\">\n",
       "  <thead>\n",
       "    <tr style=\"text-align: right;\">\n",
       "      <th></th>\n",
       "      <th>user_id</th>\n",
       "      <th>ts</th>\n",
       "      <th>country_id</th>\n",
       "      <th>site_id</th>\n",
       "    </tr>\n",
       "  </thead>\n",
       "  <tbody>\n",
       "    <tr>\n",
       "      <th>0</th>\n",
       "      <td>LC00C3</td>\n",
       "      <td>2019-02-03 18:52:50</td>\n",
       "      <td>QLT</td>\n",
       "      <td>5NPAU</td>\n",
       "    </tr>\n",
       "    <tr>\n",
       "      <th>1</th>\n",
       "      <td>LC01C3</td>\n",
       "      <td>2019-02-04 11:35:10</td>\n",
       "      <td>QLT</td>\n",
       "      <td>5NPAU</td>\n",
       "    </tr>\n",
       "    <tr>\n",
       "      <th>2</th>\n",
       "      <td>LC05C3</td>\n",
       "      <td>2019-02-02 14:14:44</td>\n",
       "      <td>BDV</td>\n",
       "      <td>5NPAU</td>\n",
       "    </tr>\n",
       "    <tr>\n",
       "      <th>3</th>\n",
       "      <td>LC06C3</td>\n",
       "      <td>2019-02-07 01:16:12</td>\n",
       "      <td>TL6</td>\n",
       "      <td>N0OTG</td>\n",
       "    </tr>\n",
       "    <tr>\n",
       "      <th>4</th>\n",
       "      <td>LC07C3</td>\n",
       "      <td>2019-02-05 19:06:42</td>\n",
       "      <td>BDV</td>\n",
       "      <td>5NPAU</td>\n",
       "    </tr>\n",
       "  </tbody>\n",
       "</table>\n",
       "</div>"
      ],
      "text/plain": [
       "  user_id                   ts country_id site_id\n",
       "0  LC00C3  2019-02-03 18:52:50        QLT   5NPAU\n",
       "1  LC01C3  2019-02-04 11:35:10        QLT   5NPAU\n",
       "2  LC05C3  2019-02-02 14:14:44        BDV   5NPAU\n",
       "3  LC06C3  2019-02-07 01:16:12        TL6   N0OTG\n",
       "4  LC07C3  2019-02-05 19:06:42        BDV   5NPAU"
      ]
     },
     "execution_count": 52,
     "metadata": {},
     "output_type": "execute_result"
    }
   ],
   "source": [
    "max_ts_data_merged.head(5)"
   ]
  },
  {
   "cell_type": "code",
   "execution_count": 53,
   "metadata": {},
   "outputs": [],
   "source": [
    "# merge the new min_ts_data_merged with max_ts_data_merged with user_id as the key\n",
    "\n",
    "merged_min_max_with_data = max_ts_data_merged.merge(min_ts_data_merged, on=\"user_id\")"
   ]
  },
  {
   "cell_type": "code",
   "execution_count": 54,
   "metadata": {},
   "outputs": [
    {
     "data": {
      "text/html": [
       "<div>\n",
       "<style scoped>\n",
       "    .dataframe tbody tr th:only-of-type {\n",
       "        vertical-align: middle;\n",
       "    }\n",
       "\n",
       "    .dataframe tbody tr th {\n",
       "        vertical-align: top;\n",
       "    }\n",
       "\n",
       "    .dataframe thead th {\n",
       "        text-align: right;\n",
       "    }\n",
       "</style>\n",
       "<table border=\"1\" class=\"dataframe\">\n",
       "  <thead>\n",
       "    <tr style=\"text-align: right;\">\n",
       "      <th></th>\n",
       "      <th>user_id</th>\n",
       "      <th>ts_x</th>\n",
       "      <th>country_id_x</th>\n",
       "      <th>site_id_x</th>\n",
       "      <th>ts_y</th>\n",
       "      <th>country_id_y</th>\n",
       "      <th>site_id_y</th>\n",
       "    </tr>\n",
       "  </thead>\n",
       "  <tbody>\n",
       "    <tr>\n",
       "      <th>0</th>\n",
       "      <td>LC00C3</td>\n",
       "      <td>2019-02-03 18:52:50</td>\n",
       "      <td>QLT</td>\n",
       "      <td>5NPAU</td>\n",
       "      <td>2019-02-03 18:52:50</td>\n",
       "      <td>QLT</td>\n",
       "      <td>5NPAU</td>\n",
       "    </tr>\n",
       "    <tr>\n",
       "      <th>1</th>\n",
       "      <td>LC01C3</td>\n",
       "      <td>2019-02-04 11:35:10</td>\n",
       "      <td>QLT</td>\n",
       "      <td>5NPAU</td>\n",
       "      <td>2019-02-04 11:35:10</td>\n",
       "      <td>QLT</td>\n",
       "      <td>5NPAU</td>\n",
       "    </tr>\n",
       "    <tr>\n",
       "      <th>2</th>\n",
       "      <td>LC05C3</td>\n",
       "      <td>2019-02-02 14:14:44</td>\n",
       "      <td>BDV</td>\n",
       "      <td>5NPAU</td>\n",
       "      <td>2019-02-02 14:14:44</td>\n",
       "      <td>BDV</td>\n",
       "      <td>5NPAU</td>\n",
       "    </tr>\n",
       "    <tr>\n",
       "      <th>3</th>\n",
       "      <td>LC06C3</td>\n",
       "      <td>2019-02-07 01:16:12</td>\n",
       "      <td>TL6</td>\n",
       "      <td>N0OTG</td>\n",
       "      <td>2019-02-01 22:49:39</td>\n",
       "      <td>TL6</td>\n",
       "      <td>N0OTG</td>\n",
       "    </tr>\n",
       "    <tr>\n",
       "      <th>4</th>\n",
       "      <td>LC07C3</td>\n",
       "      <td>2019-02-05 19:06:42</td>\n",
       "      <td>BDV</td>\n",
       "      <td>5NPAU</td>\n",
       "      <td>2019-02-05 19:06:42</td>\n",
       "      <td>BDV</td>\n",
       "      <td>5NPAU</td>\n",
       "    </tr>\n",
       "  </tbody>\n",
       "</table>\n",
       "</div>"
      ],
      "text/plain": [
       "  user_id                 ts_x country_id_x site_id_x                 ts_y  \\\n",
       "0  LC00C3  2019-02-03 18:52:50          QLT     5NPAU  2019-02-03 18:52:50   \n",
       "1  LC01C3  2019-02-04 11:35:10          QLT     5NPAU  2019-02-04 11:35:10   \n",
       "2  LC05C3  2019-02-02 14:14:44          BDV     5NPAU  2019-02-02 14:14:44   \n",
       "3  LC06C3  2019-02-07 01:16:12          TL6     N0OTG  2019-02-01 22:49:39   \n",
       "4  LC07C3  2019-02-05 19:06:42          BDV     5NPAU  2019-02-05 19:06:42   \n",
       "\n",
       "  country_id_y site_id_y  \n",
       "0          QLT     5NPAU  \n",
       "1          QLT     5NPAU  \n",
       "2          BDV     5NPAU  \n",
       "3          TL6     N0OTG  \n",
       "4          BDV     5NPAU  "
      ]
     },
     "execution_count": 54,
     "metadata": {},
     "output_type": "execute_result"
    }
   ],
   "source": [
    "merged_min_max_with_data.head(5)"
   ]
  },
  {
   "cell_type": "code",
   "execution_count": 55,
   "metadata": {},
   "outputs": [
    {
     "data": {
      "text/plain": [
       "1670"
      ]
     },
     "execution_count": 55,
     "metadata": {},
     "output_type": "execute_result"
    }
   ],
   "source": [
    "# Now we have a data frame where we have the site_id for the first visit and the last visit for every user_id.\n",
    "# Get the number of records where the site_id is the same for the first and the last visit for every user_id. \n",
    "\n",
    "merged_min_max_with_data[merged_min_max_with_data.site_id_x == merged_min_max_with_data.site_id_y].shape[0]"
   ]
  },
  {
   "cell_type": "code",
   "execution_count": null,
   "metadata": {},
   "outputs": [],
   "source": []
  }
 ],
 "metadata": {
  "kernelspec": {
   "display_name": "Python 3",
   "language": "python",
   "name": "python3"
  },
  "language_info": {
   "codemirror_mode": {
    "name": "ipython",
    "version": 3
   },
   "file_extension": ".py",
   "mimetype": "text/x-python",
   "name": "python",
   "nbconvert_exporter": "python",
   "pygments_lexer": "ipython3",
   "version": "3.7.3"
  }
 },
 "nbformat": 4,
 "nbformat_minor": 2
}
